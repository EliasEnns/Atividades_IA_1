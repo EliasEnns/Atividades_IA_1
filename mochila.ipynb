{
 "cells": [
  {
   "cell_type": "code",
   "execution_count": 1,
   "metadata": {},
   "outputs": [],
   "source": [
    "# Importando libs em pyton\n",
    "import numpy as np\n",
    "import pandas as pd\n",
    "import random as rd\n",
    "from random import randint\n",
    "import matplotlib.pyplot as pit"
   ]
  },
  {
   "cell_type": "code",
   "execution_count": 2,
   "metadata": {},
   "outputs": [],
   "source": [
    "# Número de itens - 10\n",
    "n = 10\n",
    "numero_itens = np.arange(1, n + 1)\n",
    "\n",
    "# Gerando randomicamente os pesos\n",
    "pesos = [2.5, 1.8, 0.7, 2.1, 1.5, 2.2, 0.9, 1.6, 0.5, 1.1]\n",
    "\n",
    "# Gerando randomicamente os valores de cada item\n",
    "valores = [2000, 1450, 3400, 1900, 1300, 1000, 600, 1300, 400, 900]\n",
    "\n",
    "# Nomes dos itens\n",
    "nomes = [\n",
    "    \"Smartphone Samsung Galaxy S21\",\n",
    "    \"Notebook Dell Inspiron 15\",\n",
    "    \"Fone de Ouvido Bluetooth JBL\",\n",
    "    \"Smartwatch Samsung Galaxy Watch 3\",\n",
    "    \"Tablet Apple iPad 10.2\",\n",
    "    \"Câmera Digital Canon EOS Rebel T7\",\n",
    "    \"Mouse Gamer Logitech G Pro\",\n",
    "    \"Teclado Mecânico Redragon Kumara\",\n",
    "    \"Caixa de Som Bluetooth JBL GO\",\n",
    "    \"Smartband Xiaomi Mi Band 6\",\n",
    "]\n",
    "\n",
    "# Definindo o peso máximo para a mochila\n",
    "max_peso_mochila = 7"
   ]
  },
  {
   "cell_type": "code",
   "execution_count": 3,
   "metadata": {},
   "outputs": [
    {
     "name": "stdout",
     "output_type": "stream",
     "text": [
      "Item: 1 - Nome: Smartphone Samsung Galaxy S21 - Peso: 2.5 - Valor: 2000\n",
      "Item: 2 - Nome: Notebook Dell Inspiron 15 - Peso: 1.8 - Valor: 1450\n",
      "Item: 3 - Nome: Fone de Ouvido Bluetooth JBL - Peso: 0.7 - Valor: 3400\n",
      "Item: 4 - Nome: Smartwatch Samsung Galaxy Watch 3 - Peso: 2.1 - Valor: 1900\n",
      "Item: 5 - Nome: Tablet Apple iPad 10.2 - Peso: 1.5 - Valor: 1300\n",
      "Item: 6 - Nome: Câmera Digital Canon EOS Rebel T7 - Peso: 2.2 - Valor: 1000\n",
      "Item: 7 - Nome: Mouse Gamer Logitech G Pro - Peso: 0.9 - Valor: 600\n",
      "Item: 8 - Nome: Teclado Mecânico Redragon Kumara - Peso: 1.6 - Valor: 1300\n",
      "Item: 9 - Nome: Caixa de Som Bluetooth JBL GO - Peso: 0.5 - Valor: 400\n",
      "Item: 10 - Nome: Smartband Xiaomi Mi Band 6 - Peso: 1.1 - Valor: 900\n"
     ]
    }
   ],
   "source": [
    "for i in range(numero_itens.shape[0]):\n",
    "    print(\n",
    "        \"Item: {} - Nome: {} - Peso: {} - Valor: {}\".format(\n",
    "            numero_itens[i], nomes[i], pesos[i], valores[i]\n",
    "        )\n",
    "    )"
   ]
  },
  {
   "cell_type": "code",
   "execution_count": 4,
   "metadata": {},
   "outputs": [
    {
     "name": "stdout",
     "output_type": "stream",
     "text": [
      "Tamanho da população: (8, 10)\n",
      "Número de indivíduos: 8\n",
      "Número de itens: 10\n"
     ]
    }
   ],
   "source": [
    "# Número de soluções ou indivíduos por população\n",
    "solucao_por_populacao = 8\n",
    "tamanho_populacao = (solucao_por_populacao, numero_itens.shape[0])\n",
    "\n",
    "print(\"Tamanho da população: {}\".format(tamanho_populacao))\n",
    "print(\"Número de indivíduos: {}\".format(solucao_por_populacao))\n",
    "print(\"Número de itens: {}\".format(numero_itens.shape[0]))"
   ]
  },
  {
   "cell_type": "code",
   "execution_count": 5,
   "metadata": {},
   "outputs": [
    {
     "name": "stdout",
     "output_type": "stream",
     "text": [
      "Populacao Inicial: \n",
      "[[1 0 0 0 0 0 0 0 0 0]\n",
      " [0 1 0 0 0 0 0 0 0 0]\n",
      " [0 0 1 0 0 0 0 0 0 0]\n",
      " [0 0 0 1 0 0 0 0 0 0]\n",
      " [0 0 0 0 1 0 0 0 0 0]\n",
      " [0 0 0 0 0 1 0 0 0 0]\n",
      " [0 0 0 0 0 0 1 0 0 0]\n",
      " [0 0 0 0 0 0 0 1 0 0]]\n"
     ]
    }
   ],
   "source": [
    "# Definindo o número de geracöes\n",
    "n_geracoes = 10\n",
    "\n",
    "# Criando a populacao onde somente um item sera levado por individuo\n",
    "populacao_inicial = np.eye(tamanho_populacao[0], tamanho_populacao[1], k=0)\n",
    "\n",
    "# Convertendo os tipos dos genes para inteiro\n",
    "populacao_inicial = populacao_inicial.astype(int)\n",
    "\n",
    "\n",
    "print(\"Populacao Inicial: \\n{}\".format(populacao_inicial))"
   ]
  },
  {
   "cell_type": "code",
   "execution_count": 6,
   "metadata": {},
   "outputs": [],
   "source": [
    "# Função para calcular o fitness de cada indivíduo\n",
    "def cal_fitness(peso, valor, populacao, max_peso_mochila):\n",
    "    fitness = np.zeros(populacao.shape[0])\n",
    "    # Percorre cada indivíduo\n",
    "    for i in range(populacao.shape[0]):\n",
    "        # Multiplica os itens que o indivíduo está levando pelo valor e soma\n",
    "        S1 = np.sum(populacao[i] * valor)\n",
    "        # Multiplica os itens que o indivíduo está levando pelo peso e soma\n",
    "        S2 = np.sum(populacao[i] * peso)\n",
    "        # Verifica se o peso não passou da capacidade máxima da mochila\n",
    "        if S2 <= max_peso_mochila:\n",
    "            # Armazena o fitness do indivíduo\n",
    "            fitness[i] = S1\n",
    "        else:\n",
    "            # Passou da capacidade máxima, logo valor é 0\n",
    "            fitness[i] = 0\n",
    "    return fitness.astype(float)"
   ]
  },
  {
   "cell_type": "code",
   "execution_count": null,
   "metadata": {},
   "outputs": [],
   "source": [
    "# Função para selecionar os indivíduos da próxima geração\n",
    "def selecao_roleta(fitness, numero_pais, populacao):\n",
    "\n",
    "    # Soma todos os fitness\n",
    "    max_fitness = np.sum(fitness)\n",
    "\n",
    "    # Calcula a probabilidade de cada indivíduo\n",
    "    probabilidade = fitness / max_fitness\n",
    "\n",
    "    # Realiza a seleção dos indivíduos\n",
    "    selecionados = populacao[np.random.choice(len(populacao), size=numero_pais, p=probabilidade)]\n",
    "    return selecionados"
   ]
  },
  {
   "cell_type": "code",
   "execution_count": null,
   "metadata": {},
   "outputs": [],
   "source": [
    "def crossover(pais, numero_filhos):\n",
    "    filhos = np.zeros((numero_filhos, pais.shape[1]), dtype=int)\n",
    "    for i in range(numero_filhos):\n",
    "        # Seleciona dois pais aleatórios\n",
    "        pai1 = pais[rd.randint(0, pais.shape[0] - 1)]\n",
    "        pai2 = pais[rd.randint(0, pais.shape[0] - 1)]\n",
    "        # Realiza o crossover entre os dois pais\n",
    "        ponto_crossover = rd.randint(1, pais.shape[1] - 1)\n",
    "        filhos[i][:ponto_crossover] = pai1[:ponto_crossover]\n",
    "        filhos[i][ponto_crossover:] = pai2[ponto_crossover:]\n",
    "    return filhos"
   ]
  }
 ],
 "metadata": {
  "kernelspec": {
   "display_name": "Python 3",
   "language": "python",
   "name": "python3"
  },
  "language_info": {
   "codemirror_mode": {
    "name": "ipython",
    "version": 3
   },
   "file_extension": ".py",
   "mimetype": "text/x-python",
   "name": "python",
   "nbconvert_exporter": "python",
   "pygments_lexer": "ipython3",
   "version": "3.10.6"
  }
 },
 "nbformat": 4,
 "nbformat_minor": 2
}
